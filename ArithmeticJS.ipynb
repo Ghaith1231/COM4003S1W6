{
 "cells": [
  {
   "cell_type": "markdown",
   "metadata": {},
   "source": [
    "## Arithmetic \n",
    "\n",
    "Each of these examples demonstrates a basic arithmetic operation. These are fundamental operations that you can perform with numbers in JavaScript."
   ]
  },
  {
   "cell_type": "markdown",
   "metadata": {},
   "source": [
    "\n",
    "### Example 1: Addition\n",
    "```javascript\n",
    "let a = 10;\n",
    "let b = 5;\n",
    "let sum = a + b;\n",
    "console.log(sum);  // Output: 15\n",
    "```\n",
    "Adding two numbers together.\n"
   ]
  },
  {
   "cell_type": "markdown",
   "metadata": {},
   "source": [
    "\n",
    "### Example 2: Subtraction\n",
    "```javascript\n",
    "let a = 15;\n",
    "let b = 7;\n",
    "let difference = a - b;\n",
    "console.log(difference);  // Output: 8\n",
    "```\n",
    "Subtracting one number from another.\n"
   ]
  },
  {
   "cell_type": "markdown",
   "metadata": {},
   "source": [
    "\n",
    "### Example 3: Multiplication\n",
    "```javascript\n",
    "let a = 8;\n",
    "let b = 6;\n",
    "let product = a * b;\n",
    "console.log(product);  // Output: 48\n",
    "```\n",
    "Multiplying two numbers.\n"
   ]
  },
  {
   "cell_type": "markdown",
   "metadata": {},
   "source": [
    "\n",
    "### Example 4: Division\n",
    "```javascript\n",
    "let a = 20;\n",
    "let b = 4;\n",
    "let quotient = a / b;\n",
    "console.log(quotient);  // Output: 5\n",
    "```\n",
    "Dividing one number by another.\n"
   ]
  },
  {
   "cell_type": "markdown",
   "metadata": {},
   "source": [
    "\n",
    "### Example 5: Modulus (Remainder)\n",
    "```javascript\n",
    "let a = 17;\n",
    "let b = 5;\n",
    "let remainder = a % b;\n",
    "console.log(remainder);  // Output: 2\n",
    "```\n",
    "Finding the remainder when one number is divided by another.\n"
   ]
  }
 ],
 "metadata": {
  "language_info": {
   "name": "python"
  }
 },
 "nbformat": 4,
 "nbformat_minor": 2
}
