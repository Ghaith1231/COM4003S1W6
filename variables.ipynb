{
 "cells": [
  {
   "cell_type": "markdown",
   "metadata": {},
   "source": [
    "### Example 1: Basic Variable Declaration\n",
    "```javascript\n",
    "var message = \"Hello, World!\";\n",
    "console.log(message);  // Output: Hello, World!\n",
    "```\n",
    "In this example, we declare a variable `message` using the `var` keyword and assign a string value to it. We then print the value to the console."
   ]
  },
  {
   "cell_type": "markdown",
   "metadata": {},
   "source": [
    "### Example 2: Using `let` for Block Scope\n",
    "```javascript\n",
    "let age = 25;\n",
    "if (age > 20) {\n",
    "  let greeting = \"Welcome!\";\n",
    "  console.log(greeting);  // Output: Welcome!\n",
    "}\n",
    "// console.log(greeting);  // This would cause an error because greeting is not defined outside the if block\n",
    "```\n",
    "Here, `let` is used to declare variables with block scope. The variable `greeting` is only accessible within the `if` block."
   ]
  },
  {
   "cell_type": "markdown",
   "metadata": {},
   "source": [
    "\n",
    "### Example 3: Using `const` for Constants\n",
    "```javascript\n",
    "const PI = 3.14159;\n",
    "console.log(PI);  // Output: 3.14159\n",
    "\n",
    "// PI = 3.14;  // This would cause an error because constants cannot be reassigned\n",
    "```\n",
    "`const` is used to declare constants. Once a constant is assigned a value, it cannot be reassigned.\n"
   ]
  },
  {
   "cell_type": "markdown",
   "metadata": {},
   "source": [
    "\n",
    "### Example 4: Declaring Multiple Variables\n",
    "```javascript\n",
    "let x = 5, y = 10;\n",
    "let sum = x + y;\n",
    "console.log(sum);  // Output: 15\n",
    "```\n",
    "Multiple variables can be declared in a single line using commas to separate them.\n"
   ]
  },
  {
   "cell_type": "markdown",
   "metadata": {},
   "source": [
    "\n",
    "### Example 5: Dynamic Typing\n",
    "```javascript\n",
    "let variable = \"I am a string\";\n",
    "console.log(variable);  // Output: I am a string\n",
    "\n",
    "variable = 10;\n",
    "console.log(variable);  // Output: 10\n",
    "\n",
    "variable = true;\n",
    "console.log(variable);  // Output: true\n",
    "```\n",
    "JavaScript is dynamically typed, which means a variable’s type can change at runtime. In this example, the same variable is used to store a string, a number, and a boolean at different times."
   ]
  },
  {
   "cell_type": "markdown",
   "metadata": {},
   "source": [
    "\n",
    "These examples cover some of the basic concepts related to variables in JavaScript. There are more advanced topics and nuances, but these should provide a good starting point for understanding variable declaration and use in JavaScript."
   ]
  },
  {
   "cell_type": "markdown",
   "metadata": {},
   "source": []
  }
 ],
 "metadata": {
  "language_info": {
   "name": "python"
  }
 },
 "nbformat": 4,
 "nbformat_minor": 2
}
