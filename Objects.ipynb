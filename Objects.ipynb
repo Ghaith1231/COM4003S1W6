{
 "cells": [
  {
   "cell_type": "markdown",
   "metadata": {},
   "source": [
    "## Objects\n",
    "In JavaScript, an object is a standalone entity that holds multiple values in terms of properties and methods."
   ]
  },
  {
   "cell_type": "markdown",
   "metadata": {},
   "source": [
    "\n",
    "### Properties\n",
    "Properties are the values associated with an object. For example, if you have an object representing a car, you might have properties such as make, model, and year:\n",
    "\n",
    "```javascript\n",
    "let car = {\n",
    "  make: 'Toyota',\n",
    "  model: 'Camry',\n",
    "  year: 2020\n",
    "};\n",
    "```\n",
    "\n",
    "In this example, `make`, `model`, and `year` are properties of the `car` object.\n"
   ]
  },
  {
   "cell_type": "markdown",
   "metadata": {},
   "source": [
    "\n",
    "### Methods\n",
    "Methods are functions that are stored as object properties, and they can be called using the object they are associated with. For example:\n",
    "\n",
    "```javascript\n",
    "let car = {\n",
    "  make: 'Toyota',\n",
    "  model: 'Camry',\n",
    "  year: 2020,\n",
    "  start: function() {\n",
    "    console.log('The car has started');\n",
    "  }\n",
    "};\n",
    "\n",
    "car.start();  // Output: The car has started\n",
    "```\n",
    "\n",
    "In this example, `start` is a method of the `car` object, and it can be called using the `car.start()` syntax.\n"
   ]
  },
  {
   "cell_type": "markdown",
   "metadata": {},
   "source": [
    "\n",
    "### Accessing Properties and Methods\n",
    "You can access object properties in two ways:\n",
    "1. Dot notation: `object.property`\n",
    "2. Bracket notation: `object[\"property\"]`\n",
    "\n",
    "For methods, you use dot notation and include parentheses to call the method:\n",
    "```javascript\n",
    "object.method();\n",
    "```\n"
   ]
  },
  {
   "cell_type": "markdown",
   "metadata": {},
   "source": [
    "\n",
    "### Creating Objects\n",
    "Objects can be created using object literal syntax, as shown in the examples above, or they can be created using a constructor function:\n",
    "\n",
    "```javascript\n",
    "function Car(make, model, year) {\n",
    "  this.make = make;\n",
    "  this.model = model;\n",
    "  this.year = year;\n",
    "  this.start = function() {\n",
    "    console.log('The car has started');\n",
    "  }\n",
    "}\n",
    "\n",
    "let myCar = new Car('Toyota', 'Camry', 2020);\n",
    "myCar.start();  // Output: The car has started\n",
    "```\n"
   ]
  },
  {
   "cell_type": "markdown",
   "metadata": {},
   "source": [
    "\n",
    "### Why Use Objects?\n",
    "Objects are a crucial part of JavaScript because they allow you to structure your data in a more meaningful way. Instead of having separate variables for each property of a car, you can group them together in an object. This makes your code more organized, reusable, and easier to read and maintain.\n",
    "\n",
    "Objects also play a central role in object-oriented programming (OOP), a programming paradigm that uses objects and their interactions to design and program applications. JavaScript's support for objects makes it a versatile language that can be used for procedural, functional, and object-oriented programming."
   ]
  },
  {
   "cell_type": "markdown",
   "metadata": {},
   "source": [
    "## Examples\n",
    "\n",
    "Below are five examples of objects in JavaScript, demonstrating different types of properties and methods.\n",
    "\n",
    "In each of these examples, the objects are used to group related properties and methods together, providing a clean and structured way to represent data and behavior.\n",
    "\n",
    "Replicate the examples and avoid copy/pasting the code. Understand each line of code and write it yourself. Practice makes perfect. "
   ]
  },
  {
   "cell_type": "markdown",
   "metadata": {},
   "source": [
    "\n",
    "### Example 1: Book Object\n",
    "```javascript\n",
    "let book = {\n",
    "  title: \"Harry Potter and the Sorcerer's Stone\",\n",
    "  author: \"J.K. Rowling\",\n",
    "  year: 1997,\n",
    "  getSummary: function() {\n",
    "    return `${this.title} was written by ${this.author} in ${this.year}.`;\n",
    "  }\n",
    "};\n",
    "\n",
    "console.log(book.getSummary());  // Output: Harry Potter and the Sorcerer's Stone was written by J.K. Rowling in 1997.\n",
    "```\n"
   ]
  },
  {
   "cell_type": "markdown",
   "metadata": {},
   "source": [
    "\n",
    "### Example 2: Person Object\n",
    "```javascript\n",
    "let person = {\n",
    "  firstName: \"John\",\n",
    "  lastName: \"Doe\",\n",
    "  age: 30,\n",
    "  greet: function() {\n",
    "    console.log(`Hello, my name is ${this.firstName} ${this.lastName} and I am ${this.age} years old.`);\n",
    "  }\n",
    "};\n",
    "\n",
    "person.greet();  // Output: Hello, my name is John Doe and I am 30 years old.\n",
    "```\n"
   ]
  },
  {
   "cell_type": "markdown",
   "metadata": {},
   "source": [
    "\n",
    "### Example 3: Calculator Object\n",
    "```javascript\n",
    "let calculator = {\n",
    "  add: function(x, y) {\n",
    "    return x + y;\n",
    "  },\n",
    "  subtract: function(x, y) {\n",
    "    return x - y;\n",
    "  },\n",
    "  multiply: function(x, y) {\n",
    "    return x * y;\n",
    "  },\n",
    "  divide: function(x, y) {\n",
    "    if(y !== 0) {\n",
    "      return x / y;\n",
    "    } else {\n",
    "      return \"Cannot divide by zero\";\n",
    "    }\n",
    "  }\n",
    "};\n",
    "\n",
    "console.log(calculator.add(5, 3));       // Output: 8\n",
    "console.log(calculator.subtract(10, 4)); // Output: 6\n",
    "console.log(calculator.multiply(3, 3));  // Output: 9\n",
    "console.log(calculator.divide(8, 2));    // Output: 4\n",
    "console.log(calculator.divide(8, 0));    // Output: Cannot divide by zero\n",
    "```\n"
   ]
  },
  {
   "cell_type": "markdown",
   "metadata": {},
   "source": [
    "\n",
    "### Example 4: Car Object\n",
    "```javascript\n",
    "let car = {\n",
    "  make: 'Toyota',\n",
    "  model: 'Camry',\n",
    "  year: 2020,\n",
    "  startEngine: function() {\n",
    "    console.log('Vroom Vroom! The engine is started.');\n",
    "  }\n",
    "};\n",
    "\n",
    "car.startEngine();  // Output: Vroom Vroom! The engine is started.\n",
    "```\n"
   ]
  },
  {
   "cell_type": "markdown",
   "metadata": {},
   "source": [
    "\n",
    "### Example 5: Student Object\n",
    "```javascript\n",
    "let student = {\n",
    "  name: 'Emily',\n",
    "  age: 21,\n",
    "  major: 'Computer Science',\n",
    "  courses: ['Calculus', 'Physics', 'Programming'],\n",
    "  introduceYourself: function() {\n",
    "    console.log(`Hi, my name is ${this.name} and I am studying ${this.major}.`);\n",
    "  }\n",
    "};\n",
    "\n",
    "student.introduceYourself();  // Output: Hi, my name is Emily and I am studying Computer Science.\n",
    "```\n"
   ]
  },
  {
   "cell_type": "markdown",
   "metadata": {},
   "source": [
    "### Exercise\n",
    "\n",
    "Create a student object with appropriate properties and methods. "
   ]
  }
 ],
 "metadata": {
  "language_info": {
   "name": "python"
  }
 },
 "nbformat": 4,
 "nbformat_minor": 2
}
