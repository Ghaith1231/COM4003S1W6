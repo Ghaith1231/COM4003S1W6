{
 "cells": [
  {
   "cell_type": "markdown",
   "metadata": {},
   "source": [
    "### Example 1: Basic Function\n",
    "```javascript\n",
    "function greet(name) {\n",
    "    return \"Hello, \" + name + \"!\";\n",
    "}\n",
    "console.log(greet(\"Alice\"));  // Output: Hello, Alice!\n",
    "```\n",
    "A simple function that takes a name as a parameter and returns a greeting message."
   ]
  },
  {
   "cell_type": "markdown",
   "metadata": {},
   "source": [
    "\n",
    "\n",
    "### Example 2: Function Expressions\n",
    "```javascript\n",
    "const square = function(number) {\n",
    "    return number * number;\n",
    "}\n",
    "console.log(square(4));  // Output: 16\n",
    "```\n",
    "This example demonstrates a function expression where a function is assigned to a variable. The function calculates the square of a number.\n"
   ]
  },
  {
   "cell_type": "markdown",
   "metadata": {},
   "source": [
    "\n",
    "### Example 3: Arrow Functions (ES6)\n",
    "```javascript\n",
    "const add = (a, b) => a + b;\n",
    "console.log(add(5, 3));  // Output: 8\n",
    "```\n",
    "An arrow function is used to add two numbers. Arrow functions provide a concise way to write functions in JavaScript.\n"
   ]
  },
  {
   "cell_type": "markdown",
   "metadata": {},
   "source": [
    "\n",
    "### Example 4: Function with Default Parameters\n",
    "```javascript\n",
    "function greet(name = \"Guest\") {\n",
    "    return \"Hello, \" + name + \"!\";\n",
    "}\n",
    "console.log(greet());  // Output: Hello, Guest!\n",
    "```\n",
    "This function has a default parameter. If no argument is passed, \"Guest\" is used as the default value for `name`.\n"
   ]
  },
  {
   "cell_type": "markdown",
   "metadata": {},
   "source": [
    "\n",
    "### Example 5: Function as a Parameter (Callback)\n",
    "```javascript\n",
    "function performOperation(a, b, operation) {\n",
    "    return operation(a, b);\n",
    "}\n",
    "\n",
    "const result = performOperation(10, 5, function(x, y) {\n",
    "    return x * y;\n",
    "});\n",
    "\n",
    "console.log(result);  // Output: 50\n",
    "```\n",
    "In this example, a function (`performOperation`) takes another function as a parameter (`operation`) and executes it. The function passed as an argument performs multiplication on the two other arguments."
   ]
  },
  {
   "cell_type": "markdown",
   "metadata": {},
   "source": [
    "\n",
    "These examples demonstrate a variety of ways functions can be defined and utilized in JavaScript, showcasing their versatility and importance in the language."
   ]
  }
 ],
 "metadata": {
  "language_info": {
   "name": "python"
  }
 },
 "nbformat": 4,
 "nbformat_minor": 2
}
