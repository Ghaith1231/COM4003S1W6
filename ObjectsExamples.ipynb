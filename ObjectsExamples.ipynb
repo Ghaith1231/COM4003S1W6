{
 "cells": [
  {
   "cell_type": "markdown",
   "metadata": {},
   "source": [
    "## Object Exampples\n",
    "\n",
    "Below are five examples of objects in JavaScript, demonstrating different types of properties and methods.\n",
    "\n",
    "In each of these examples, the objects are used to group related properties and methods together, providing a clean and structured way to represent data and behavior."
   ]
  },
  {
   "cell_type": "markdown",
   "metadata": {},
   "source": [
    "\n",
    "### Example 1: Book Object\n",
    "```javascript\n",
    "let book = {\n",
    "  title: \"Harry Potter and the Sorcerer's Stone\",\n",
    "  author: \"J.K. Rowling\",\n",
    "  year: 1997,\n",
    "  getSummary: function() {\n",
    "    return `${this.title} was written by ${this.author} in ${this.year}.`;\n",
    "  }\n",
    "};\n",
    "\n",
    "console.log(book.getSummary());  // Output: Harry Potter and the Sorcerer's Stone was written by J.K. Rowling in 1997.\n",
    "```\n"
   ]
  },
  {
   "cell_type": "markdown",
   "metadata": {},
   "source": [
    "### this\n",
    "\n",
    "`this` is a keyword in JavaScript that refers to the object on which the current function is being invoked. \n",
    "\n",
    "`this` is particularly useful because it ensures that you are accessing the properties of the object on which the method was called, even if there are other objects or variables with similar properties in the scope. It helps to keep your code modular and flexible.\n",
    "\n",
    "When you define a method (a function inside an object), `this` allows you to access properties and other methods of the same object.\n",
    "\n",
    "Here is a breakdown of the above example:\n",
    "\n",
    "```javascript\n",
    "let book = {\n",
    "  title: \"Harry Potter and the Sorcerer's Stone\",\n",
    "  author: \"J.K. Rowling\",\n",
    "  year: 1997,\n",
    "  getSummary: function() {\n",
    "    return `${this.title} was written by ${this.author} in ${this.year}.`;\n",
    "  }\n",
    "};\n",
    "```\n",
    "\n",
    "In this object `book`, there are three properties: `title`, `author`, and `year`, and one method: `getSummary`.\n",
    "\n",
    "- `this.title` refers to the `title` property of the `book` object.\n",
    "- `this.author` refers to the `author` property of the `book` object.\n",
    "- `this.year` refers to the `year` property of the `book` object.\n",
    "\n",
    "So when you call `book.getSummary()`, it returns the string \"Harry Potter and the Sorcerer's Stone was written by J.K. Rowling in 1997.\"."
   ]
  },
  {
   "cell_type": "markdown",
   "metadata": {},
   "source": [
    "\n",
    "### Example 2: Person Object\n",
    "```javascript\n",
    "let person = {\n",
    "  firstName: \"John\",\n",
    "  lastName: \"Doe\",\n",
    "  age: 30,\n",
    "  greet: function() {\n",
    "    console.log(`Hello, my name is ${this.firstName} ${this.lastName} and I am ${this.age} years old.`);\n",
    "  }\n",
    "};\n",
    "\n",
    "person.greet();  // Output: Hello, my name is John Doe and I am 30 years old.\n",
    "```\n"
   ]
  },
  {
   "cell_type": "markdown",
   "metadata": {},
   "source": [
    "\n",
    "### Example 3: Calculator Object\n",
    "```javascript\n",
    "let calculator = {\n",
    "  add: function(x, y) {\n",
    "    return x + y;\n",
    "  },\n",
    "  subtract: function(x, y) {\n",
    "    return x - y;\n",
    "  },\n",
    "  multiply: function(x, y) {\n",
    "    return x * y;\n",
    "  },\n",
    "  divide: function(x, y) {\n",
    "    if(y !== 0) {\n",
    "      return x / y;\n",
    "    } else {\n",
    "      return \"Cannot divide by zero\";\n",
    "    }\n",
    "  }\n",
    "};\n",
    "\n",
    "console.log(calculator.add(5, 3));       // Output: 8\n",
    "console.log(calculator.subtract(10, 4)); // Output: 6\n",
    "console.log(calculator.multiply(3, 3));  // Output: 9\n",
    "console.log(calculator.divide(8, 2));    // Output: 4\n",
    "console.log(calculator.divide(8, 0));    // Output: Cannot divide by zero\n",
    "```\n"
   ]
  },
  {
   "cell_type": "markdown",
   "metadata": {},
   "source": [
    "\n",
    "### Example 4: Car Object\n",
    "```javascript\n",
    "let car = {\n",
    "  make: 'Toyota',\n",
    "  model: 'Camry',\n",
    "  year: 2020,\n",
    "  startEngine: function() {\n",
    "    console.log('Vroom Vroom! The engine is started.');\n",
    "  }\n",
    "};\n",
    "\n",
    "car.startEngine();  // Output: Vroom Vroom! The engine is started.\n",
    "```\n"
   ]
  },
  {
   "cell_type": "markdown",
   "metadata": {},
   "source": [
    "\n",
    "### Example 5: Student Object\n",
    "```javascript\n",
    "let student = {\n",
    "  name: 'Emily',\n",
    "  age: 21,\n",
    "  major: 'Computer Science',\n",
    "  courses: ['Calculus', 'Physics', 'Programming'],\n",
    "  introduceYourself: function() {\n",
    "    console.log(`Hi, my name is ${this.name} and I am studying ${this.major}.`);\n",
    "  }\n",
    "};\n",
    "\n",
    "student.introduceYourself();  // Output: Hi, my name is Emily and I am studying Computer Science.\n",
    "```\n"
   ]
  },
  {
   "cell_type": "markdown",
   "metadata": {},
   "source": [
    "\n"
   ]
  }
 ],
 "metadata": {
  "language_info": {
   "name": "python"
  }
 },
 "nbformat": 4,
 "nbformat_minor": 2
}
