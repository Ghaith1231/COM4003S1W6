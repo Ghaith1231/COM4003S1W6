{
 "cells": [
  {
   "cell_type": "markdown",
   "metadata": {},
   "source": [
    "You should implement the following examples in a proper .HTML file to practice with the functionality of the code. While you may be able to observe the output here by adding a Markdown block, it may not allow the full functionality of the JS fucntions. Hence, you should try them in a HTML file. "
   ]
  },
  {
   "cell_type": "markdown",
   "metadata": {},
   "source": [
    "### 1. **Required Field Validation**\n",
    "   Ensuring that a user cannot submit the form until certain required fields are filled out.\n",
    "\n",
    "```html\n",
    "<form id=\"myForm\">\n",
    "  <label for=\"username\">Username:</label>\n",
    "  <input type=\"text\" id=\"username\" required>\n",
    "  <button type=\"submit\">Submit</button>\n",
    "</form>\n",
    "\n",
    "<script>\n",
    "  document.getElementById('myForm').addEventListener('submit', function(event) {\n",
    "    var username = document.getElementById('username').value;\n",
    "    if (!username) {\n",
    "      alert('Username is required!');\n",
    "      event.preventDefault(); // Prevent the form from submitting\n",
    "    }\n",
    "  });\n",
    "</script>\n",
    "```\n"
   ]
  },
  {
   "cell_type": "markdown",
   "metadata": {},
   "source": [
    "\n",
    "### 2. **Email Format Validation**\n",
    "   Checking if the entered email address is in the correct format.\n",
    "\n",
    "```html\n",
    "<form id=\"emailForm\">\n",
    "  <label for=\"email\">Email:</label>\n",
    "  <input type=\"text\" id=\"email\">\n",
    "  <button type=\"submit\">Submit</button>\n",
    "</form>\n",
    "\n",
    "<script>\n",
    "  document.getElementById('emailForm').addEventListener('submit', function(event) {\n",
    "    var email = document.getElementById('email').value;\n",
    "    var regex = /\\S+@\\S+\\.\\S+/;\n",
    "    if (!regex.test(email)) {\n",
    "      alert('Please enter a valid email address');\n",
    "      event.preventDefault();\n",
    "    }\n",
    "  });\n",
    "</script>\n",
    "```\n"
   ]
  },
  {
   "cell_type": "markdown",
   "metadata": {},
   "source": [
    "\n",
    "### 3. **Password Length Validation**\n",
    "   Ensuring that the password is of a certain length for security.\n",
    "\n",
    "```html\n",
    "<form id=\"passwordForm\">\n",
    "  <label for=\"password\">Password:</label>\n",
    "  <input type=\"password\" id=\"password\">\n",
    "  <button type=\"submit\">Submit</button>\n",
    "</form>\n",
    "\n",
    "<script>\n",
    "  document.getElementById('passwordForm').addEventListener('submit', function(event) {\n",
    "    var password = document.getElementById('password').value;\n",
    "    if (password.length < 8) {\n",
    "      alert('Password must be at least 8 characters long');\n",
    "      event.preventDefault();\n",
    "    }\n",
    "  });\n",
    "</script>\n",
    "```\n"
   ]
  },
  {
   "cell_type": "markdown",
   "metadata": {},
   "source": [
    "\n",
    "### 4. **Numeric Value Range Validation**\n",
    "   Ensuring that a numeric input falls within a certain range.\n",
    "\n",
    "```html\n",
    "<form id=\"ageForm\">\n",
    "  <label for=\"age\">Age:</label>\n",
    "  <input type=\"number\" id=\"age\">\n",
    "  <button type=\"submit\">Submit</button>\n",
    "</form>\n",
    "\n",
    "<script>\n",
    "  document.getElementById('ageForm').addEventListener('submit', function(event) {\n",
    "    var age = document.getElementById('age').value;\n",
    "    if (age < 18 || age > 99) {\n",
    "      alert('Age must be between 18 and 99');\n",
    "      event.preventDefault();\n",
    "    }\n",
    "  });\n",
    "</script>\n",
    "```\n"
   ]
  },
  {
   "cell_type": "markdown",
   "metadata": {},
   "source": [
    "\n",
    "### 5. **Confirm Password Match**\n",
    "   Ensuring that the 'Confirm Password' field matches the 'Password' field.\n",
    "\n",
    "```html\n",
    "<form id=\"signupForm\">\n",
    "  <label for=\"password1\">Password:</label>\n",
    "  <input type=\"password\" id=\"password1\">\n",
    "  <label for=\"password2\">Confirm Password:</label>\n",
    "  <input type=\"password\" id=\"password2\">\n",
    "  <button type=\"submit\">Submit</button>\n",
    "</form>\n",
    "\n",
    "<script>\n",
    "  document.getElementById('signupForm').addEventListener('submit', function(event) {\n",
    "    var password1 = document.getElementById('password1').value;\n",
    "    var password2 = document.getElementById('password2').value;\n",
    "    if (password1 !== password2) {\n",
    "      alert('Passwords do not match');\n",
    "      event.preventDefault();\n",
    "    }\n",
    "  });\n",
    "</script>\n",
    "```\n",
    "\n",
    "These examples cover a variety of common use cases for form validation, helping to ensure that user input is correct and secure before being submitted to the server."
   ]
  },
  {
   "cell_type": "markdown",
   "metadata": {},
   "source": []
  }
 ],
 "metadata": {
  "language_info": {
   "name": "python"
  }
 },
 "nbformat": 4,
 "nbformat_minor": 2
}
