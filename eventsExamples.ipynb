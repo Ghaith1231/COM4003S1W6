{
 "cells": [
  {
   "cell_type": "markdown",
   "metadata": {},
   "source": [
    "Events in HTML are specific actions that can occur within the browser, such as a user clicking on an element, moving the mouse over an element, pressing a key on the keyboard, and many others. JavaScript can respond to these events, enabling dynamic and interactive web pages.\n",
    "\n",
    "Here’s some applications of events in HTML using JS. By using these events, JavaScript can create interactive and dynamic web pages, responding to user actions and modifying the content or style of the page accordingly.\n"
   ]
  },
  {
   "cell_type": "markdown",
   "metadata": {},
   "source": [
    "## sth here\n",
    "### 1. Event Listeners:\n",
    "JavaScript can be used to assign functions to run when specific events occur. These functions are called event listeners.\n",
    "\n",
    "#### Syntax:\n",
    "```javascript\n",
    "element.addEventListener(event, function, useCapture);\n",
    "```\n",
    "\n",
    "- `event`: The name of the event (e.g., \"click\", \"mouseover\").\n",
    "- `function`: The function to be executed when the event occurs.\n",
    "- `useCapture`: A Boolean value specifying whether to use event capturing or bubbling. This parameter is optional.\n",
    "\n",
    "#### Example:\n",
    "```html\n",
    "<button id=\"myBtn\">Click me</button>\n",
    "\n",
    "<script>\n",
    "  document.getElementById(\"myBtn\").addEventListener(\"click\", function() {\n",
    "    alert(\"Button was clicked!\");\n",
    "  });\n",
    "</script>\n",
    "```\n",
    "\n",
    "In this example, when the button is clicked, an alert box will appear with the message \"Button was clicked!\".\n"
   ]
  },
  {
   "cell_type": "markdown",
   "metadata": {},
   "source": [
    "\n",
    "### 2. Using HTML Attributes:\n",
    "You can also define event listeners directly in the HTML elements using attributes. \n",
    "\n",
    "#### Example:\n",
    "```html\n",
    "<button onclick=\"alert('Button was clicked!')\">Click me</button>\n",
    "```\n",
    "\n",
    "While this method is straightforward and requires less code, it's generally considered best practice to separate HTML and JavaScript, as it makes the code cleaner, more maintainable, and easier to debug.\n"
   ]
  },
  {
   "cell_type": "markdown",
   "metadata": {},
   "source": [
    "\n",
    "### 3. Event Propagation:\n",
    "Events in the DOM can be propagated in two ways: bubbling or capturing.\n",
    "\n",
    "- Bubbling: Events start from the target element that triggered the event and bubbles up to the root.\n",
    "- Capturing: Events start from the root and propagate down to the target element.\n",
    "\n",
    "You can use the `stopPropagation()` method to prevent further propagation of the current event.\n"
   ]
  },
  {
   "cell_type": "markdown",
   "metadata": {},
   "source": [
    "\n",
    "### 4. Event Object:\n",
    "When an event occurs, the browser creates an event object that contains all the information about the event. This object is passed to the function handling the event as the first parameter.\n",
    "\n",
    "#### Example:\n",
    "```javascript\n",
    "document.getElementById(\"myBtn\").addEventListener(\"click\", function(event) {\n",
    "  alert(\"Button was clicked! Event type is: \" + event.type);\n",
    "});\n",
    "```\n",
    "\n",
    "In this example, when the button is clicked, an alert box will appear showing the type of the event (in this case, \"click\").\n"
   ]
  },
  {
   "cell_type": "markdown",
   "metadata": {},
   "source": [
    "\n",
    "### 5. Common HTML Events:\n",
    "- `onclick`: User clicks an element\n",
    "- `onmouseover`: User moves the mouse over an element\n",
    "- `onmouseout`: User moves the mouse away from an element\n",
    "- `onkeydown`: User presses a key\n",
    "- `onload`: Browser has finished loading the page"
   ]
  }
 ],
 "metadata": {
  "language_info": {
   "name": "python"
  }
 },
 "nbformat": 4,
 "nbformat_minor": 2
}
